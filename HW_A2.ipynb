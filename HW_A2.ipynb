{
 "cells": [
  {
   "cell_type": "code",
   "execution_count": 1,
   "id": "547ceb51",
   "metadata": {},
   "outputs": [],
   "source": [
    "import nbimporter"
   ]
  },
  {
   "cell_type": "code",
   "execution_count": 2,
   "id": "864179fd",
   "metadata": {},
   "outputs": [],
   "source": [
    "import numpy as np"
   ]
  },
  {
   "cell_type": "code",
   "execution_count": 3,
   "id": "95d0323d",
   "metadata": {},
   "outputs": [],
   "source": [
    "from math import factorial, e"
   ]
  },
  {
   "cell_type": "code",
   "execution_count": 4,
   "id": "961d87d8",
   "metadata": {},
   "outputs": [],
   "source": [
    "from Formula import *"
   ]
  },
  {
   "cell_type": "markdown",
   "id": "d2a3869e",
   "metadata": {},
   "source": [
    "#### 1 - Вероятность того, что стрелок попадет в мишень, выстрелив один раз, равна 0.8. Стрелок выстрелил 100 раз. Найдите вероятность того, что стрелок попадет в цель ровно 85 раз."
   ]
  },
  {
   "cell_type": "markdown",
   "id": "2eeac410",
   "metadata": {},
   "source": [
    "Находится по формуле Бернулли: $ P_{n} = C_{n}^{k}p^{k}q^{n-k} $<br>\n",
    "где: \n",
    "- n = 100<br>\n",
    "- k = 85<br>\n",
    "- p = 0.8<br>\n",
    "- q = 1 - p"
   ]
  },
  {
   "cell_type": "code",
   "execution_count": 6,
   "id": "45ecca72",
   "metadata": {},
   "outputs": [
    {
     "data": {
      "text/plain": [
       "4.806179370074635"
      ]
     },
     "execution_count": 6,
     "metadata": {},
     "output_type": "execute_result"
    }
   ],
   "source": [
    "bernulli(85, 100, 0.8)"
   ]
  },
  {
   "cell_type": "markdown",
   "id": "209e7921",
   "metadata": {},
   "source": [
    "Ответ: 4.8%"
   ]
  },
  {
   "cell_type": "markdown",
   "id": "fffe33a8",
   "metadata": {},
   "source": [
    "#### 2. Вероятность того, что лампочка перегорит в течение первого дня эксплуатации, равна 0.0004. В жилом комплексе после ремонта в один день включили 5000 новых лампочек. Какова вероятность, что ни одна из них не перегорит в первый день? Какова вероятность, что перегорят ровно две?"
   ]
  },
  {
   "cell_type": "markdown",
   "id": "ab9617b9",
   "metadata": {},
   "source": [
    "Находится по формуле Пуассона: $P_{m} = \\frac{\\lambda^{m}} {m!}e^{-\\lambda} $<br>\n",
    "Какова вероятность, что ни одна из них не перегорит в первый день?<br>\n",
    "где:\n",
    "- n = 5000<br>\n",
    "- m = 0<br>\n",
    "- p = 0.004<br>\n",
    "- $\\lambda $ = P * n<b>\n",
    "- e $\\approx$ 2.72    \n",
    "Какова вероятность, что перегорят ровно две?<br>\n",
    "где: \n",
    "- n = 5000<br>\n",
    "- m = 2<br>\n",
    "- p = 0.004<br>\n",
    "- $\\lambda $ = P * n<br>\n",
    "- e $\\approx$ 2.72"
   ]
  },
  {
   "cell_type": "code",
   "execution_count": 7,
   "id": "b3e6a2c1",
   "metadata": {},
   "outputs": [
    {
     "data": {
      "text/plain": [
       "13.53352832366127"
      ]
     },
     "execution_count": 7,
     "metadata": {},
     "output_type": "execute_result"
    }
   ],
   "source": [
    "puasson(0, 5000, 0.0004)"
   ]
  },
  {
   "cell_type": "code",
   "execution_count": 8,
   "id": "7c913f27",
   "metadata": {},
   "outputs": [
    {
     "data": {
      "text/plain": [
       "27.06705664732254"
      ]
     },
     "execution_count": 8,
     "metadata": {},
     "output_type": "execute_result"
    }
   ],
   "source": [
    "puasson(2, 5000, 0.0004)"
   ]
  },
  {
   "cell_type": "markdown",
   "id": "6b6ea985",
   "metadata": {},
   "source": [
    "Ответ: \n",
    "- ни одна из них не перегорит $ \\approx $ 13.5%\n",
    "- перегорят ровно две $ \\approx $ 27%"
   ]
  },
  {
   "cell_type": "markdown",
   "id": "03678b0a",
   "metadata": {},
   "source": [
    "#### 3. Монету подбросили 144 раза. Какова вероятность, что орел выпадет ровно 70 раз?"
   ]
  },
  {
   "cell_type": "markdown",
   "id": "d05782e6",
   "metadata": {},
   "source": [
    "Находится по формуле Бернулли: $ P_{n} = C_{n}^{k}p^{k}q^{n-k} $<br>\n",
    "где: \n",
    "- n = 144<br>\n",
    "- k = 70<br>\n",
    "- p = 0.5<br>\n",
    "- q = 1 - p"
   ]
  },
  {
   "cell_type": "code",
   "execution_count": 9,
   "id": "fee25684",
   "metadata": {},
   "outputs": [
    {
     "data": {
      "text/plain": [
       "6.281178035144776"
      ]
     },
     "execution_count": 9,
     "metadata": {},
     "output_type": "execute_result"
    }
   ],
   "source": [
    "bernulli(70, 144, 0.5)"
   ]
  },
  {
   "cell_type": "markdown",
   "id": "e3d2d2ed",
   "metadata": {},
   "source": [
    "Ответ: 6.2%"
   ]
  },
  {
   "cell_type": "markdown",
   "id": "da491cf7",
   "metadata": {},
   "source": [
    "#### 4. В первом ящике находится 10 мячей, из которых 7 - белые. Во втором ящике - 11 мячей, из которых 9 белых. Из каждого ящика вытаскивают случайным образом по два мяча. Какова вероятность того, что все мячи белые? Какова вероятность того, что ровно два мяча белые? Какова вероятность того, что хотя бы один мяч белый?"
   ]
  },
  {
   "cell_type": "markdown",
   "id": "46bfa1b2",
   "metadata": {},
   "source": [
    "- #### Какова вероятность того, что все мячи белые?"
   ]
  },
  {
   "cell_type": "markdown",
   "id": "09485ede",
   "metadata": {},
   "source": [
    "$ \\frac{C_{7}^{2}}{C_{10}^{2}} * \\frac{C_{9}^{2}}{C_{11}^{2}} $"
   ]
  },
  {
   "cell_type": "code",
   "execution_count": 8,
   "id": "d4c103a9",
   "metadata": {},
   "outputs": [
    {
     "data": {
      "text/plain": [
       "30.545454545454547"
      ]
     },
     "execution_count": 8,
     "metadata": {},
     "output_type": "execute_result"
    }
   ],
   "source": [
    "((soch(2, 7)/soch(2, 10))*(soch(2, 9)/soch(2, 11)))*100"
   ]
  },
  {
   "cell_type": "markdown",
   "id": "b415ba3c",
   "metadata": {},
   "source": [
    "Ответ: 30.5%"
   ]
  },
  {
   "cell_type": "markdown",
   "id": "c2917932",
   "metadata": {},
   "source": [
    "- #### Какова вероятность того, что ровно два мяча белые?"
   ]
  },
  {
   "cell_type": "markdown",
   "id": "5592ac96",
   "metadata": {},
   "source": [
    "$ \\frac{С^{2}_{7}}{С^{2}_{10}} * \\frac{С^{2}_{2}}{С^{2}_{11}} +  \\frac{С^{2}_{3}}{С^{2}_{10}} * \\frac{С^{2}_{9}}{С^{2}_{11}} + \\frac{С^{1}_{7}С^{1}_{3}}{C^{2}_{10}} * \\frac{С^{1}_{9}С^{1}_{2}}{C^{2}_{11}} $"
   ]
  },
  {
   "cell_type": "code",
   "execution_count": 11,
   "id": "4d3a2fe4",
   "metadata": {},
   "outputs": [
    {
     "data": {
      "text/plain": [
       "22.181818181818183"
      ]
     },
     "execution_count": 11,
     "metadata": {},
     "output_type": "execute_result"
    }
   ],
   "source": [
    "((soch(2, 7)/soch(2, 10))*(soch(2, 3)/soch(2, 11))+(soch(2, 3)/soch(2,10))*(soch(2, 9)/soch(2, 11))+\\\n",
    "((soch(1, 7)*soch(1, 3))/soch(2, 10)) * ((soch(1, 9)*soch(1, 2))/soch(2, 11)))*100"
   ]
  },
  {
   "cell_type": "markdown",
   "id": "c0145b9e",
   "metadata": {},
   "source": [
    "Ответ: 22.18%"
   ]
  },
  {
   "cell_type": "markdown",
   "id": "78d425d4",
   "metadata": {},
   "source": [
    "- #### Какова вероятность того, что хотя бы один мяч белый?"
   ]
  },
  {
   "cell_type": "markdown",
   "id": "2a7854ec",
   "metadata": {},
   "source": [
    "Данная вероятность обратная вероятности того, что все мячи будут черные.<br>\n",
    "$ 1 -\\frac{С^{2}_{3}}{С^{2}_{10}} * \\frac{С^{2}_{2}}{С^{2}_{11}} $"
   ]
  },
  {
   "cell_type": "code",
   "execution_count": 13,
   "id": "4d821070",
   "metadata": {},
   "outputs": [
    {
     "data": {
      "text/plain": [
       "0.9987878787878788"
      ]
     },
     "execution_count": 13,
     "metadata": {},
     "output_type": "execute_result"
    }
   ],
   "source": [
    "1 - ((soch(2, 3)/soch(2, 10))*(soch(2, 2)/soch(2, 11)))"
   ]
  },
  {
   "cell_type": "markdown",
   "id": "7b80a41b",
   "metadata": {},
   "source": [
    "Ответ: 0.9987%"
   ]
  }
 ],
 "metadata": {
  "kernelspec": {
   "display_name": "Python 3 (ipykernel)",
   "language": "python",
   "name": "python3"
  },
  "language_info": {
   "codemirror_mode": {
    "name": "ipython",
    "version": 3
   },
   "file_extension": ".py",
   "mimetype": "text/x-python",
   "name": "python",
   "nbconvert_exporter": "python",
   "pygments_lexer": "ipython3",
   "version": "3.11.3"
  }
 },
 "nbformat": 4,
 "nbformat_minor": 5
}
